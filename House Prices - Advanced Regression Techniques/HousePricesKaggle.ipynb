{
  "nbformat": 4,
  "nbformat_minor": 0,
  "metadata": {
    "colab": {
      "name": "HousePricesKaggle.ipynb",
      "provenance": [],
      "authorship_tag": "ABX9TyM0u5IkM1bwJzoKG1YoGssL",
      "include_colab_link": true
    },
    "kernelspec": {
      "name": "python3",
      "display_name": "Python 3"
    },
    "language_info": {
      "name": "python"
    }
  },
  "cells": [
    {
      "cell_type": "markdown",
      "metadata": {
        "id": "view-in-github",
        "colab_type": "text"
      },
      "source": [
        "<a href=\"https://colab.research.google.com/github/ayselrajabli/KaggleProjects/blob/main/House%20Prices%20-%20Advanced%20Regression%20Techniques/HousePricesKaggle.ipynb\" target=\"_parent\"><img src=\"https://colab.research.google.com/assets/colab-badge.svg\" alt=\"Open In Colab\"/></a>"
      ]
    },
    {
      "cell_type": "code",
      "execution_count": null,
      "metadata": {
        "id": "RfIPb8PgUKnq"
      },
      "outputs": [],
      "source": [
        "import pandas as pd\n",
        "import numpy as np\n",
        "import matplotlib.pyplot\n",
        "import seaborn as sns\n",
        "from xgboost import XGBRegressor\n",
        "from catboost import CatBoostRegressor\n",
        "from sklearn import svm\n",
        "from sklearn.model_selection import GridSearchCV\n",
        "from sklearn.ensemble import RandomForestRegressor\n",
        "from sklearn.ensemble import GradientBoostingRegressor\n",
        "from sklearn.preprocessing import LabelEncoder\n",
        "from sklearn.model_selection import train_test_split\n",
        "from sklearn.preprocessing import MinMaxScaler\n",
        "from sklearn.metrics import mean_squared_error"
      ]
    },
    {
      "cell_type": "code",
      "source": [
        "# Display all columns\n",
        "pd.set_option('display.max_rows', None)"
      ],
      "metadata": {
        "id": "LCkrS3A9aDfP"
      },
      "execution_count": null,
      "outputs": []
    },
    {
      "cell_type": "code",
      "source": [
        "url_train = 'https://raw.githubusercontent.com/ayselrajabli/KaggleProjects/main/House%20Prices%20-%20Advanced%20Regression%20Techniques/train.csv'\n",
        "url_test = 'https://raw.githubusercontent.com/ayselrajabli/KaggleProjects/main/House%20Prices%20-%20Advanced%20Regression%20Techniques/test.csv'"
      ],
      "metadata": {
        "id": "kXxLAbNmUqmJ"
      },
      "execution_count": null,
      "outputs": []
    },
    {
      "cell_type": "code",
      "source": [
        "df_train = pd.read_csv(url_train, encoding = 'unicode_escape')\n",
        "df_test = pd.read_csv(url_test, encoding = 'unicode_escape')"
      ],
      "metadata": {
        "id": "AjNaDuibVGnM"
      },
      "execution_count": null,
      "outputs": []
    },
    {
      "cell_type": "code",
      "source": [
        "df_train.columns"
      ],
      "metadata": {
        "colab": {
          "base_uri": "https://localhost:8080/"
        },
        "id": "PLvjOb9zVmJt",
        "outputId": "efb23193-231d-4b87-bb3f-9ac7a5ea028e"
      },
      "execution_count": null,
      "outputs": [
        {
          "output_type": "execute_result",
          "data": {
            "text/plain": [
              "Index(['Id', 'MSSubClass', 'MSZoning', 'LotFrontage', 'LotArea', 'Street',\n",
              "       'Alley', 'LotShape', 'LandContour', 'Utilities', 'LotConfig',\n",
              "       'LandSlope', 'Neighborhood', 'Condition1', 'Condition2', 'BldgType',\n",
              "       'HouseStyle', 'OverallQual', 'OverallCond', 'YearBuilt', 'YearRemodAdd',\n",
              "       'RoofStyle', 'RoofMatl', 'Exterior1st', 'Exterior2nd', 'MasVnrType',\n",
              "       'MasVnrArea', 'ExterQual', 'ExterCond', 'Foundation', 'BsmtQual',\n",
              "       'BsmtCond', 'BsmtExposure', 'BsmtFinType1', 'BsmtFinSF1',\n",
              "       'BsmtFinType2', 'BsmtFinSF2', 'BsmtUnfSF', 'TotalBsmtSF', 'Heating',\n",
              "       'HeatingQC', 'CentralAir', 'Electrical', '1stFlrSF', '2ndFlrSF',\n",
              "       'LowQualFinSF', 'GrLivArea', 'BsmtFullBath', 'BsmtHalfBath', 'FullBath',\n",
              "       'HalfBath', 'BedroomAbvGr', 'KitchenAbvGr', 'KitchenQual',\n",
              "       'TotRmsAbvGrd', 'Functional', 'Fireplaces', 'FireplaceQu', 'GarageType',\n",
              "       'GarageYrBlt', 'GarageFinish', 'GarageCars', 'GarageArea', 'GarageQual',\n",
              "       'GarageCond', 'PavedDrive', 'WoodDeckSF', 'OpenPorchSF',\n",
              "       'EnclosedPorch', '3SsnPorch', 'ScreenPorch', 'PoolArea', 'PoolQC',\n",
              "       'Fence', 'MiscFeature', 'MiscVal', 'MoSold', 'YrSold', 'SaleType',\n",
              "       'SaleCondition', 'SalePrice'],\n",
              "      dtype='object')"
            ]
          },
          "metadata": {},
          "execution_count": 67
        }
      ]
    },
    {
      "cell_type": "code",
      "source": [
        "df_train.info()"
      ],
      "metadata": {
        "colab": {
          "base_uri": "https://localhost:8080/"
        },
        "id": "gFulZwbVabB8",
        "outputId": "87857d68-050d-4adf-d7c2-e0cdca14b878"
      },
      "execution_count": null,
      "outputs": [
        {
          "output_type": "stream",
          "name": "stdout",
          "text": [
            "<class 'pandas.core.frame.DataFrame'>\n",
            "RangeIndex: 1460 entries, 0 to 1459\n",
            "Data columns (total 81 columns):\n",
            " #   Column         Non-Null Count  Dtype  \n",
            "---  ------         --------------  -----  \n",
            " 0   Id             1460 non-null   int64  \n",
            " 1   MSSubClass     1460 non-null   int64  \n",
            " 2   MSZoning       1460 non-null   object \n",
            " 3   LotFrontage    1201 non-null   float64\n",
            " 4   LotArea        1460 non-null   int64  \n",
            " 5   Street         1460 non-null   object \n",
            " 6   Alley          91 non-null     object \n",
            " 7   LotShape       1460 non-null   object \n",
            " 8   LandContour    1460 non-null   object \n",
            " 9   Utilities      1460 non-null   object \n",
            " 10  LotConfig      1460 non-null   object \n",
            " 11  LandSlope      1460 non-null   object \n",
            " 12  Neighborhood   1460 non-null   object \n",
            " 13  Condition1     1460 non-null   object \n",
            " 14  Condition2     1460 non-null   object \n",
            " 15  BldgType       1460 non-null   object \n",
            " 16  HouseStyle     1460 non-null   object \n",
            " 17  OverallQual    1460 non-null   int64  \n",
            " 18  OverallCond    1460 non-null   int64  \n",
            " 19  YearBuilt      1460 non-null   int64  \n",
            " 20  YearRemodAdd   1460 non-null   int64  \n",
            " 21  RoofStyle      1460 non-null   object \n",
            " 22  RoofMatl       1460 non-null   object \n",
            " 23  Exterior1st    1460 non-null   object \n",
            " 24  Exterior2nd    1460 non-null   object \n",
            " 25  MasVnrType     1452 non-null   object \n",
            " 26  MasVnrArea     1452 non-null   float64\n",
            " 27  ExterQual      1460 non-null   object \n",
            " 28  ExterCond      1460 non-null   object \n",
            " 29  Foundation     1460 non-null   object \n",
            " 30  BsmtQual       1423 non-null   object \n",
            " 31  BsmtCond       1423 non-null   object \n",
            " 32  BsmtExposure   1422 non-null   object \n",
            " 33  BsmtFinType1   1423 non-null   object \n",
            " 34  BsmtFinSF1     1460 non-null   int64  \n",
            " 35  BsmtFinType2   1422 non-null   object \n",
            " 36  BsmtFinSF2     1460 non-null   int64  \n",
            " 37  BsmtUnfSF      1460 non-null   int64  \n",
            " 38  TotalBsmtSF    1460 non-null   int64  \n",
            " 39  Heating        1460 non-null   object \n",
            " 40  HeatingQC      1460 non-null   object \n",
            " 41  CentralAir     1460 non-null   object \n",
            " 42  Electrical     1459 non-null   object \n",
            " 43  1stFlrSF       1460 non-null   int64  \n",
            " 44  2ndFlrSF       1460 non-null   int64  \n",
            " 45  LowQualFinSF   1460 non-null   int64  \n",
            " 46  GrLivArea      1460 non-null   int64  \n",
            " 47  BsmtFullBath   1460 non-null   int64  \n",
            " 48  BsmtHalfBath   1460 non-null   int64  \n",
            " 49  FullBath       1460 non-null   int64  \n",
            " 50  HalfBath       1460 non-null   int64  \n",
            " 51  BedroomAbvGr   1460 non-null   int64  \n",
            " 52  KitchenAbvGr   1460 non-null   int64  \n",
            " 53  KitchenQual    1460 non-null   object \n",
            " 54  TotRmsAbvGrd   1460 non-null   int64  \n",
            " 55  Functional     1460 non-null   object \n",
            " 56  Fireplaces     1460 non-null   int64  \n",
            " 57  FireplaceQu    770 non-null    object \n",
            " 58  GarageType     1379 non-null   object \n",
            " 59  GarageYrBlt    1379 non-null   float64\n",
            " 60  GarageFinish   1379 non-null   object \n",
            " 61  GarageCars     1460 non-null   int64  \n",
            " 62  GarageArea     1460 non-null   int64  \n",
            " 63  GarageQual     1379 non-null   object \n",
            " 64  GarageCond     1379 non-null   object \n",
            " 65  PavedDrive     1460 non-null   object \n",
            " 66  WoodDeckSF     1460 non-null   int64  \n",
            " 67  OpenPorchSF    1460 non-null   int64  \n",
            " 68  EnclosedPorch  1460 non-null   int64  \n",
            " 69  3SsnPorch      1460 non-null   int64  \n",
            " 70  ScreenPorch    1460 non-null   int64  \n",
            " 71  PoolArea       1460 non-null   int64  \n",
            " 72  PoolQC         7 non-null      object \n",
            " 73  Fence          281 non-null    object \n",
            " 74  MiscFeature    54 non-null     object \n",
            " 75  MiscVal        1460 non-null   int64  \n",
            " 76  MoSold         1460 non-null   int64  \n",
            " 77  YrSold         1460 non-null   int64  \n",
            " 78  SaleType       1460 non-null   object \n",
            " 79  SaleCondition  1460 non-null   object \n",
            " 80  SalePrice      1460 non-null   int64  \n",
            "dtypes: float64(3), int64(35), object(43)\n",
            "memory usage: 924.0+ KB\n"
          ]
        }
      ]
    },
    {
      "cell_type": "markdown",
      "source": [
        "##EDA"
      ],
      "metadata": {
        "id": "8DSV6ACRV64y"
      }
    },
    {
      "cell_type": "code",
      "source": [
        "train_rows, train_cols = df_train.shape\n",
        "print(f\"Train Data: {train_rows} rows \\n\\t    {train_cols} columns\" )\n",
        "print('----------------------')\n",
        "test_rows, test_cols = df_test.shape\n",
        "print(f\"Test Data: {test_rows} rows \\n\\t   {test_cols} columns\" )"
      ],
      "metadata": {
        "colab": {
          "base_uri": "https://localhost:8080/"
        },
        "id": "-A4PUOpEVn7i",
        "outputId": "bf0d278a-8b7a-4742-8f8a-ba86dca88f3b"
      },
      "execution_count": null,
      "outputs": [
        {
          "output_type": "stream",
          "name": "stdout",
          "text": [
            "Train Data: 1460 rows \n",
            "\t    81 columns\n",
            "----------------------\n",
            "Test Data: 1459 rows \n",
            "\t   80 columns\n"
          ]
        }
      ]
    },
    {
      "cell_type": "code",
      "source": [
        "#Number of missing values with Percentage\n",
        "print((df_train.isna().sum()[df_train.isna().sum()!=0]/train_rows*100).round(2).astype(str)+\"%\")"
      ],
      "metadata": {
        "colab": {
          "base_uri": "https://localhost:8080/"
        },
        "id": "mv6l9Oi4V99Y",
        "outputId": "4b02aa86-0c4a-4446-9c36-7dd37e20e98c"
      },
      "execution_count": null,
      "outputs": [
        {
          "output_type": "stream",
          "name": "stdout",
          "text": [
            "LotFrontage     17.74%\n",
            "Alley           93.77%\n",
            "MasVnrType       0.55%\n",
            "MasVnrArea       0.55%\n",
            "BsmtQual         2.53%\n",
            "BsmtCond         2.53%\n",
            "BsmtExposure      2.6%\n",
            "BsmtFinType1     2.53%\n",
            "BsmtFinType2      2.6%\n",
            "Electrical       0.07%\n",
            "FireplaceQu     47.26%\n",
            "GarageType       5.55%\n",
            "GarageYrBlt      5.55%\n",
            "GarageFinish     5.55%\n",
            "GarageQual       5.55%\n",
            "GarageCond       5.55%\n",
            "PoolQC          99.52%\n",
            "Fence           80.75%\n",
            "MiscFeature      96.3%\n",
            "dtype: object\n"
          ]
        }
      ]
    },
    {
      "cell_type": "code",
      "source": [
        "print((df_test.isna().sum()[df_test.isna().sum()!=0]/train_rows*100).round(2).astype(str)+\"%\")"
      ],
      "metadata": {
        "colab": {
          "base_uri": "https://localhost:8080/"
        },
        "id": "DTb65Q7aWolw",
        "outputId": "a1ca0c69-accd-438e-c8f9-5814c12ade10"
      },
      "execution_count": null,
      "outputs": [
        {
          "output_type": "stream",
          "name": "stdout",
          "text": [
            "MSZoning         0.27%\n",
            "LotFrontage     15.55%\n",
            "Alley            92.6%\n",
            "Utilities        0.14%\n",
            "Exterior1st      0.07%\n",
            "Exterior2nd      0.07%\n",
            "MasVnrType        1.1%\n",
            "MasVnrArea       1.03%\n",
            "BsmtQual         3.01%\n",
            "BsmtCond         3.08%\n",
            "BsmtExposure     3.01%\n",
            "BsmtFinType1     2.88%\n",
            "BsmtFinSF1       0.07%\n",
            "BsmtFinType2     2.88%\n",
            "BsmtFinSF2       0.07%\n",
            "BsmtUnfSF        0.07%\n",
            "TotalBsmtSF      0.07%\n",
            "BsmtFullBath     0.14%\n",
            "BsmtHalfBath     0.14%\n",
            "KitchenQual      0.07%\n",
            "Functional       0.14%\n",
            "FireplaceQu      50.0%\n",
            "GarageType       5.21%\n",
            "GarageYrBlt      5.34%\n",
            "GarageFinish     5.34%\n",
            "GarageCars       0.07%\n",
            "GarageArea       0.07%\n",
            "GarageQual       5.34%\n",
            "GarageCond       5.34%\n",
            "PoolQC          99.73%\n",
            "Fence           80.07%\n",
            "MiscFeature     96.44%\n",
            "SaleType         0.07%\n",
            "dtype: object\n"
          ]
        }
      ]
    },
    {
      "cell_type": "code",
      "source": [
        "df_train.nunique()"
      ],
      "metadata": {
        "colab": {
          "base_uri": "https://localhost:8080/"
        },
        "id": "lBGv01fiaRaK",
        "outputId": "5f0027a4-c521-4d0b-c7c8-e132356bf2b4"
      },
      "execution_count": null,
      "outputs": [
        {
          "output_type": "execute_result",
          "data": {
            "text/plain": [
              "Id               1460\n",
              "MSSubClass         15\n",
              "MSZoning            5\n",
              "LotFrontage       110\n",
              "LotArea          1073\n",
              "Street              2\n",
              "Alley               2\n",
              "LotShape            4\n",
              "LandContour         4\n",
              "Utilities           2\n",
              "LotConfig           5\n",
              "LandSlope           3\n",
              "Neighborhood       25\n",
              "Condition1          9\n",
              "Condition2          8\n",
              "BldgType            5\n",
              "HouseStyle          8\n",
              "OverallQual        10\n",
              "OverallCond         9\n",
              "YearBuilt         112\n",
              "YearRemodAdd       61\n",
              "RoofStyle           6\n",
              "RoofMatl            8\n",
              "Exterior1st        15\n",
              "Exterior2nd        16\n",
              "MasVnrType          4\n",
              "MasVnrArea        327\n",
              "ExterQual           4\n",
              "ExterCond           5\n",
              "Foundation          6\n",
              "BsmtQual            4\n",
              "BsmtCond            4\n",
              "BsmtExposure        4\n",
              "BsmtFinType1        6\n",
              "BsmtFinSF1        637\n",
              "BsmtFinType2        6\n",
              "BsmtFinSF2        144\n",
              "BsmtUnfSF         780\n",
              "TotalBsmtSF       721\n",
              "Heating             6\n",
              "HeatingQC           5\n",
              "CentralAir          2\n",
              "Electrical          5\n",
              "1stFlrSF          753\n",
              "2ndFlrSF          417\n",
              "LowQualFinSF       24\n",
              "GrLivArea         861\n",
              "BsmtFullBath        4\n",
              "BsmtHalfBath        3\n",
              "FullBath            4\n",
              "HalfBath            3\n",
              "BedroomAbvGr        8\n",
              "KitchenAbvGr        4\n",
              "KitchenQual         4\n",
              "TotRmsAbvGrd       12\n",
              "Functional          7\n",
              "Fireplaces          4\n",
              "FireplaceQu         5\n",
              "GarageType          6\n",
              "GarageYrBlt        97\n",
              "GarageFinish        3\n",
              "GarageCars          5\n",
              "GarageArea        441\n",
              "GarageQual          5\n",
              "GarageCond          5\n",
              "PavedDrive          3\n",
              "WoodDeckSF        274\n",
              "OpenPorchSF       202\n",
              "EnclosedPorch     120\n",
              "3SsnPorch          20\n",
              "ScreenPorch        76\n",
              "PoolArea            8\n",
              "PoolQC              3\n",
              "Fence               4\n",
              "MiscFeature         4\n",
              "MiscVal            21\n",
              "MoSold             12\n",
              "YrSold              5\n",
              "SaleType            9\n",
              "SaleCondition       6\n",
              "SalePrice         663\n",
              "dtype: int64"
            ]
          },
          "metadata": {},
          "execution_count": 72
        }
      ]
    },
    {
      "cell_type": "code",
      "source": [
        "df_test.nunique()"
      ],
      "metadata": {
        "colab": {
          "base_uri": "https://localhost:8080/"
        },
        "id": "7sDEu0WnX1MT",
        "outputId": "8fdbe57c-a63d-4bfe-fc19-78e0c9fc9507"
      },
      "execution_count": null,
      "outputs": [
        {
          "output_type": "execute_result",
          "data": {
            "text/plain": [
              "Id               1459\n",
              "MSSubClass         16\n",
              "MSZoning            5\n",
              "LotFrontage       115\n",
              "LotArea          1106\n",
              "Street              2\n",
              "Alley               2\n",
              "LotShape            4\n",
              "LandContour         4\n",
              "Utilities           1\n",
              "LotConfig           5\n",
              "LandSlope           3\n",
              "Neighborhood       25\n",
              "Condition1          9\n",
              "Condition2          5\n",
              "BldgType            5\n",
              "HouseStyle          7\n",
              "OverallQual        10\n",
              "OverallCond         9\n",
              "YearBuilt         106\n",
              "YearRemodAdd       61\n",
              "RoofStyle           6\n",
              "RoofMatl            4\n",
              "Exterior1st        13\n",
              "Exterior2nd        15\n",
              "MasVnrType          4\n",
              "MasVnrArea        303\n",
              "ExterQual           4\n",
              "ExterCond           5\n",
              "Foundation          6\n",
              "BsmtQual            4\n",
              "BsmtCond            4\n",
              "BsmtExposure        4\n",
              "BsmtFinType1        6\n",
              "BsmtFinSF1        669\n",
              "BsmtFinType2        6\n",
              "BsmtFinSF2        161\n",
              "BsmtUnfSF         793\n",
              "TotalBsmtSF       736\n",
              "Heating             4\n",
              "HeatingQC           5\n",
              "CentralAir          2\n",
              "Electrical          4\n",
              "1stFlrSF          789\n",
              "2ndFlrSF          407\n",
              "LowQualFinSF       15\n",
              "GrLivArea         879\n",
              "BsmtFullBath        4\n",
              "BsmtHalfBath        3\n",
              "FullBath            5\n",
              "HalfBath            3\n",
              "BedroomAbvGr        7\n",
              "KitchenAbvGr        3\n",
              "KitchenQual         4\n",
              "TotRmsAbvGrd       12\n",
              "Functional          7\n",
              "Fireplaces          5\n",
              "FireplaceQu         5\n",
              "GarageType          6\n",
              "GarageYrBlt        97\n",
              "GarageFinish        3\n",
              "GarageCars          6\n",
              "GarageArea        459\n",
              "GarageQual          4\n",
              "GarageCond          5\n",
              "PavedDrive          3\n",
              "WoodDeckSF        263\n",
              "OpenPorchSF       203\n",
              "EnclosedPorch     131\n",
              "3SsnPorch          13\n",
              "ScreenPorch        75\n",
              "PoolArea            7\n",
              "PoolQC              2\n",
              "Fence               4\n",
              "MiscFeature         3\n",
              "MiscVal            26\n",
              "MoSold             12\n",
              "YrSold              5\n",
              "SaleType            9\n",
              "SaleCondition       6\n",
              "dtype: int64"
            ]
          },
          "metadata": {},
          "execution_count": 73
        }
      ]
    },
    {
      "cell_type": "code",
      "source": [
        "df_train.select_dtypes(exclude=['object']).columns"
      ],
      "metadata": {
        "colab": {
          "base_uri": "https://localhost:8080/"
        },
        "id": "aToL7sp-X5dQ",
        "outputId": "087adf66-34c5-4c3c-bd5f-8fee7348667c"
      },
      "execution_count": null,
      "outputs": [
        {
          "output_type": "execute_result",
          "data": {
            "text/plain": [
              "Index(['Id', 'MSSubClass', 'LotFrontage', 'LotArea', 'OverallQual',\n",
              "       'OverallCond', 'YearBuilt', 'YearRemodAdd', 'MasVnrArea', 'BsmtFinSF1',\n",
              "       'BsmtFinSF2', 'BsmtUnfSF', 'TotalBsmtSF', '1stFlrSF', '2ndFlrSF',\n",
              "       'LowQualFinSF', 'GrLivArea', 'BsmtFullBath', 'BsmtHalfBath', 'FullBath',\n",
              "       'HalfBath', 'BedroomAbvGr', 'KitchenAbvGr', 'TotRmsAbvGrd',\n",
              "       'Fireplaces', 'GarageYrBlt', 'GarageCars', 'GarageArea', 'WoodDeckSF',\n",
              "       'OpenPorchSF', 'EnclosedPorch', '3SsnPorch', 'ScreenPorch', 'PoolArea',\n",
              "       'MiscVal', 'MoSold', 'YrSold', 'SalePrice'],\n",
              "      dtype='object')"
            ]
          },
          "metadata": {},
          "execution_count": 74
        }
      ]
    },
    {
      "cell_type": "code",
      "source": [
        "corr = ['LotFrontage', 'LotArea', 'OverallQual',\n",
        "       'OverallCond', 'YearBuilt', 'YearRemodAdd', 'MasVnrArea', 'BsmtFinSF1',\n",
        "       'BsmtFinSF2', 'BsmtUnfSF', 'TotalBsmtSF', '1stFlrSF', '2ndFlrSF',\n",
        "       'LowQualFinSF', 'GrLivArea', 'BsmtFullBath', 'BsmtHalfBath', 'FullBath',\n",
        "       'HalfBath', 'BedroomAbvGr', 'KitchenAbvGr', 'TotRmsAbvGrd',\n",
        "       'Fireplaces', 'GarageYrBlt', 'GarageCars', 'GarageArea', 'WoodDeckSF',\n",
        "       'OpenPorchSF', 'EnclosedPorch', '3SsnPorch', 'ScreenPorch', 'PoolArea',\n",
        "       'MiscVal', 'MoSold', 'YrSold',]"
      ],
      "metadata": {
        "id": "LwAzffHHagmG"
      },
      "execution_count": null,
      "outputs": []
    },
    {
      "cell_type": "code",
      "source": [
        "for c in corr:\n",
        "    x = df_train[df_train[c].notna()]\n",
        "    print(f\"Corr. SalePrice ~ {c}: {np.corrcoef(x[c], x['SalePrice'])[0, 1]}\")"
      ],
      "metadata": {
        "colab": {
          "base_uri": "https://localhost:8080/"
        },
        "id": "DopSlswsajib",
        "outputId": "d347f358-3f59-41a8-c27a-2fc03c981971"
      },
      "execution_count": null,
      "outputs": [
        {
          "output_type": "stream",
          "name": "stdout",
          "text": [
            "Corr. SalePrice ~ LotFrontage: 0.35179909657067804\n",
            "Corr. SalePrice ~ LotArea: 0.2638433538714056\n",
            "Corr. SalePrice ~ OverallQual: 0.7909816005838044\n",
            "Corr. SalePrice ~ OverallCond: -0.07785589404867803\n",
            "Corr. SalePrice ~ YearBuilt: 0.5228973328794969\n",
            "Corr. SalePrice ~ YearRemodAdd: 0.5071009671113865\n",
            "Corr. SalePrice ~ MasVnrArea: 0.4774930470957163\n",
            "Corr. SalePrice ~ BsmtFinSF1: 0.3864198062421532\n",
            "Corr. SalePrice ~ BsmtFinSF2: -0.011378121450215125\n",
            "Corr. SalePrice ~ BsmtUnfSF: 0.21447910554696892\n",
            "Corr. SalePrice ~ TotalBsmtSF: 0.6135805515591956\n",
            "Corr. SalePrice ~ 1stFlrSF: 0.6058521846919147\n",
            "Corr. SalePrice ~ 2ndFlrSF: 0.3193338028320681\n",
            "Corr. SalePrice ~ LowQualFinSF: -0.02560613000067959\n",
            "Corr. SalePrice ~ GrLivArea: 0.7086244776126523\n",
            "Corr. SalePrice ~ BsmtFullBath: 0.22712223313149382\n",
            "Corr. SalePrice ~ BsmtHalfBath: -0.016844154297359016\n",
            "Corr. SalePrice ~ FullBath: 0.5606637627484449\n",
            "Corr. SalePrice ~ HalfBath: 0.2841076755947831\n",
            "Corr. SalePrice ~ BedroomAbvGr: 0.16821315430073988\n",
            "Corr. SalePrice ~ KitchenAbvGr: -0.13590737084214122\n",
            "Corr. SalePrice ~ TotRmsAbvGrd: 0.5337231555820282\n",
            "Corr. SalePrice ~ Fireplaces: 0.46692883675152724\n",
            "Corr. SalePrice ~ GarageYrBlt: 0.48636167748786097\n",
            "Corr. SalePrice ~ GarageCars: 0.6404091972583529\n",
            "Corr. SalePrice ~ GarageArea: 0.6234314389183618\n",
            "Corr. SalePrice ~ WoodDeckSF: 0.3244134445681294\n",
            "Corr. SalePrice ~ OpenPorchSF: 0.3158562271160555\n",
            "Corr. SalePrice ~ EnclosedPorch: -0.12857795792595653\n",
            "Corr. SalePrice ~ 3SsnPorch: 0.04458366533574846\n",
            "Corr. SalePrice ~ ScreenPorch: 0.11144657114291105\n",
            "Corr. SalePrice ~ PoolArea: 0.09240354949187321\n",
            "Corr. SalePrice ~ MiscVal: -0.02118957964030325\n",
            "Corr. SalePrice ~ MoSold: 0.046432245223819384\n",
            "Corr. SalePrice ~ YrSold: -0.028922585168730378\n"
          ]
        }
      ]
    },
    {
      "cell_type": "code",
      "source": [
        ""
      ],
      "metadata": {
        "id": "2hSWQKDqaqxS"
      },
      "execution_count": null,
      "outputs": []
    }
  ]
}